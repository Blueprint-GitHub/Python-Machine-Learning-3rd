{
  "nbformat": 4,
  "nbformat_minor": 0,
  "metadata": {
    "colab": {
      "provenance": [],
      "gpuType": "T4",
      "authorship_tag": "ABX9TyM6JgwwRaORDDsTc/4O75fy",
      "include_colab_link": true
    },
    "kernelspec": {
      "name": "python3",
      "display_name": "Python 3"
    },
    "language_info": {
      "name": "python"
    },
    "accelerator": "GPU"
  },
  "cells": [
    {
      "cell_type": "markdown",
      "metadata": {
        "id": "view-in-github",
        "colab_type": "text"
      },
      "source": [
        "<a href=\"https://colab.research.google.com/github/Blueprint-GitHub/Study_Note/blob/main/Deep_learning_with_keras/Deep_learning_with_keras_chapter_9_Advance_CNN.ipynb\" target=\"_parent\"><img src=\"https://colab.research.google.com/assets/colab-badge.svg\" alt=\"Open In Colab\"/></a>"
      ]
    },
    {
      "cell_type": "code",
      "execution_count": null,
      "metadata": {
        "id": "j3EF822UpVwp"
      },
      "outputs": [],
      "source": [
        "!wget http://www.robots.ox.ac.uk/~vgg/data/pets/data/images.tar.gz\n",
        "!wget http://www.robots.ox.ac.uk/~vgg/data/pets/data/annotations.tar.gz\n",
        "!tar -xf images.tar.gz\n",
        "!tar -xf annotations.tar.gz"
      ]
    },
    {
      "cell_type": "code",
      "source": [
        "import os\n",
        "\n",
        "input_dir = \"images/\"\n",
        "target_dir = \"annotations/trimaps/\"\n",
        "\n",
        "input_img_paths = sorted(\n",
        "    [os.path.join(input_dir, fname)\n",
        "     for fname in os.listdir(input_dir)\n",
        "     if fname.endswith(\".jpg\")])\n",
        "target_paths = sorted(\n",
        "    [os.path.join(target_dir, fname)\n",
        "     for fname in os.listdir(target_dir)\n",
        "     if fname.endswith(\".png\") and not fname.startswith(\".\")])"
      ],
      "metadata": {
        "id": "V0EoAvSLs0kS"
      },
      "execution_count": null,
      "outputs": []
    },
    {
      "cell_type": "code",
      "source": [
        "import numpy as np\n",
        "import matplotlib.pyplot as plt\n",
        "from tensorflow.keras.utils import load_img, img_to_array\n",
        "import random\n",
        "\n",
        "img_size = (200, 200)\n",
        "num_imgs = len(input_img_paths)\n",
        "\n",
        "random.Random(1337).shuffle(input_img_paths)\n",
        "random.Random(1337).shuffle(target_paths)\n",
        "\n",
        "def path_to_input_image(path):\n",
        "  return img_to_array(load_img(path, target_size = img_size))\n",
        "def path_to_target(path):\n",
        "  img = img_to_array(\n",
        "      load_img(path, target_size = img_size, color_mode = 'grayscale'))\n",
        "  img = img.astype(\"uint8\") - 1 # 레이블이 0,1,2가 되도록 1을 뺀다\n",
        "  return img\n",
        "\n",
        "input_imgs = np.zeros((num_imgs,) + img_size + (3,), dtype = 'float32')\n",
        "targets = np.zeros((num_imgs,) + img_size + (1,), dtype = 'float32')\n",
        "for i in range(num_imgs):\n",
        "  input_imgs[i] = path_to_input_image(input_img_paths[i])\n",
        "  targets[i] = path_to_target(target_paths[i])\n",
        "\n",
        "#num_val_samples = 1000\n",
        "train_input_imgs = input_imgs[:-1000]\n",
        "train_targets = targets[:-1000]\n",
        "val_input_imgs = input_imgs[-1000:]\n",
        "val_targets = targets[-1000:]"
      ],
      "metadata": {
        "id": "8gwK5Ac2wQNY"
      },
      "execution_count": null,
      "outputs": []
    },
    {
      "cell_type": "code",
      "source": [
        "from tensorflow import keras\n",
        "from tensorflow.keras import layers\n",
        "\n",
        "def get_model(img_size, num_classes):\n",
        "  inputs = keras.Input(shape = img_size + (3,))\n",
        "\n",
        "  # kernel_initializer = 'he_normal'로 하는게 더 나음\n",
        "  x = layers.Rescaling(1./255)(inputs)\n",
        "  x = layers.Conv2D(64, 3, strides = 2, activation = 'relu', padding = 'same')(x)\n",
        "  x = layers.Conv2D(64, 3, activation = 'relu', padding = 'same')(x)\n",
        "  x = layers.Conv2D(128, 3, strides = 2, activation = 'relu', padding = 'same')(x)\n",
        "  x = layers.Conv2D(128, 3, activation = 'relu', padding = 'same')(x)\n",
        "  x = layers.Conv2D(256, 3, strides = 2, activation = 'relu', padding = 'same')(x)\n",
        "  x = layers.Conv2D(256, 3, activation = 'relu', padding = 'same')(x)\n",
        "\n",
        "  x = layers.Conv2DTranspose(256, 3, activation = 'relu', padding = 'same')(x)\n",
        "  x = layers.Conv2DTranspose(\n",
        "      256, 3, activation = 'relu', padding = 'same', strides = 2)(x)\n",
        "  x = layers.Conv2DTranspose(128, 3, activation = 'relu', padding = 'same')(x)\n",
        "  x = layers.Conv2DTranspose(\n",
        "      128, 3, activation = 'relu', padding = 'same', strides = 2)(x)\n",
        "  x = layers.Conv2DTranspose(64, 3, activation = 'relu', padding = 'same')(x)\n",
        "  x = layers.Conv2DTranspose(\n",
        "      64, 3, activation = 'relu', padding = 'same', strides = 2)(x)\n",
        "  outputs = layers.Conv2D(num_classes, 3, activation = \"softmax\",\n",
        "                          padding = \"same\")(x)\n",
        "  model = keras.Model(inputs, outputs)\n",
        "  return model\n",
        "\n",
        "model = get_model(img_size = img_size, num_classes = 3)\n",
        "model.compile(optimizer = 'rmsprop',\n",
        "              loss = 'sparse_categorical_crossentropy')\n",
        "callbacks = [\n",
        "    keras.callbacks.ModelCheckpoint('oxford_segmentation.h5',\n",
        "                                    save_best_only = True)\n",
        "]\n",
        "history = model.fit(train_input_imgs, train_targets,\n",
        "                    epochs = 50,\n",
        "                    callbacks = callbacks,\n",
        "                    batch_size = 64,\n",
        "                    validation_data = (val_input_imgs, val_targets))\n"
      ],
      "metadata": {
        "id": "RbtLEfVsxx-Q"
      },
      "execution_count": null,
      "outputs": []
    },
    {
      "cell_type": "code",
      "source": [
        "epochs = range(1, len(history.history[\"loss\"]) + 1)\n",
        "loss = history.history['loss']\n",
        "val_loss = history.history['val_loss']\n",
        "plt.figure()\n",
        "plt.plot(epochs, loss, \"bo\", label = \"Training loss\")\n",
        "plt.plot(epochs, val_loss, \"b\", label = \"Validation loss\")\n",
        "plt.title(\"Training and Validation Loss\")\n",
        "plt.show()"
      ],
      "metadata": {
        "colab": {
          "base_uri": "https://localhost:8080/",
          "height": 452
        },
        "id": "Uj743nYw0WpR",
        "outputId": "0039dabd-b761-45be-891b-d7cdd4cc682d"
      },
      "execution_count": null,
      "outputs": [
        {
          "output_type": "display_data",
          "data": {
            "text/plain": [
              "<Figure size 640x480 with 1 Axes>"
            ],
            "image/png": "[encoded data removed]"
          },
          "metadata": {}
        }
      ]
    },
    {
      "cell_type": "code",
      "source": [
        "# 82.48\n",
        "# 잔차연결, 정보손실 없이 층을 깊게하기 위한 기술\n",
        "from tensorflow import keras\n",
        "from tensorflow.keras import layers\n",
        "\n",
        "inputs = keras.Input(shape = (32,32,3))\n",
        "x = layers.Rescaling(1./255)(inputs)\n",
        "\n",
        "def residual_block(x, filters, pooling = False):\n",
        "  residual = x\n",
        "  x = layers.Conv2D(filters, 3, activation = 'relu', padding = 'same')(x)\n",
        "  x = layers.Conv2D(filters, 3, activation = 'relu', padding = 'same')(x)\n",
        "\n",
        "  if pooling: # 최대 풀링을 사용하면 원하는 크기를 투영하기 위해 스트라이드 추가\n",
        "    x = layers.MaxPooling2D(2, padding = 'same')(x)\n",
        "    residual = layers.Conv2D(filters, 1, strides = 2)(residual)\n",
        "  elif filters != residual.shape[-1]:\n",
        "    residual = layers.Conv2D(filters, 1)(residual) #max풀링을 안쓰면 채널수가 바뀔때만 잔차 투영\n",
        "  x = layers.add([x, residual])\n",
        "  return x\n",
        "\n",
        "x = residual_block(x, filters = 32, pooling = True)\n",
        "x = residual_block(x, filters = 64, pooling = True)\n",
        "x = residual_block(x, filters = 128, pooling = False) #다음에 전역풀링을 시행하니까 False\n",
        "x = layers.GlobalAveragePooling2D()(x)\n",
        "outputs = layers.Dense(1, activation = 'sigmoid')(x)\n",
        "model = keras.Model(inputs, outputs)\n",
        "model.summary()"
      ],
      "metadata": {
        "id": "QEAqNF7PNBdp"
      },
      "execution_count": null,
      "outputs": []
    },
    {
      "cell_type": "markdown",
      "source": [
        "```\n",
        "# 다음과 같이 잔차연결을 Layer를 상속하는 Class로 사용할 수 있으며\n",
        "이렇게 구현하면 재사용과 확장성 면에서는 유리하다.\n",
        "Sequential 모델 기준으로\n",
        "model.add(ResidualUnit(filter,strides)) 이렇게 쓰면 됨.\n",
        "\n",
        "동작 방식의 차이\n",
        "- residual_block 함수는 풀링의 유무에 따라 잔차 경로의 연산을 달리하며,\n",
        "  채널 수의 변경이 필요할 때만 1x1 컨볼루션을 적용.\n",
        "- ResidualUnit 클래스는 스트라이드 값에 따라 잔차 경로의 연산을 달리하며,\n",
        "  모든 경로에 배치 정규화를 적용.\n",
        "  \n",
        "DefaultConv2D = partial(tf.keras.layers.Conv2D, kernel_size=3, strides=1,\n",
        "                        padding=\"same\", kernel_initializer=\"he_normal\",\n",
        "                        use_bias=False)\n",
        "\n",
        "class ResidualUnit(tf.keras.layers.Layer):\n",
        "    def __init__(self, filters, strides=1, activation=\"relu\", **kwargs):\n",
        "        super().__init__(**kwargs)\n",
        "        self.activation = tf.keras.activations.get(activation)\n",
        "        self.main_layers = [\n",
        "            DefaultConv2D(filters, strides=strides),\n",
        "            tf.keras.layers.BatchNormalization(),\n",
        "            self.activation,\n",
        "            DefaultConv2D(filters),\n",
        "            tf.keras.layers.BatchNormalization()\n",
        "        ]\n",
        "        self.skip_layers = []\n",
        "        if strides > 1:\n",
        "            self.skip_layers = [\n",
        "                DefaultConv2D(filters, kernel_size=1, strides=strides),\n",
        "                tf.keras.layers.BatchNormalization()\n",
        "            ]\n",
        "\n",
        "    def call(self, inputs):\n",
        "        Z = inputs\n",
        "        for layer in self.main_layers:\n",
        "            Z = layer(Z)\n",
        "        skip_Z = inputs\n",
        "        for layer in self.skip_layers:\n",
        "            skip_Z = layer(skip_Z)\n",
        "        return self.activation(Z + skip_Z)\n",
        "```"
      ],
      "metadata": {
        "id": "psBFS-b-nIQO"
      }
    },
    {
      "cell_type": "code",
      "source": [
        "# 고급 컨브넷 기술\n",
        "inputs = keras.Input(shape=(180, 180, 3))\n",
        "x = data_augmentation(inputs) #데이터 증식\n",
        "\n",
        "x = layers.Rescaling(1./255)(x)  # 스케일 조정\n",
        "x = layers.Conv2D(filters=32, kernel_size=5, use_bias=False)(x)\n",
        "# 시작단계에서는 깊이별분리합성곱이 RGB처럼 층별로 상관관계가 깊은 단계에서\n",
        "# 사용하기 어려우므로 일반 conv2D를 사용.\n",
        "# 깊이별분리합성곱은 채널(깊이)가 다르면 상관관계가 없다고 가정함.\n",
        "for size in [32, 64, 128, 256, 512]:\n",
        "    residual = x\n",
        "\n",
        "    x = layers.BatchNormalization()(x)  # 배치 정규화\n",
        "    x = layers.Activation(\"relu\")(x)\n",
        "    x = layers.SeparableConv2D(size, 3, padding=\"same\", use_bias=False)(x) #깊이별분리합성곱\n",
        "\n",
        "    x = layers.BatchNormalization()(x)\n",
        "    x = layers.Activation(\"relu\")(x)\n",
        "    x = layers.SeparableConv2D(size, 3, padding=\"same\", use_bias=False)(x)\n",
        "\n",
        "    x = layers.MaxPooling2D(3, strides=2, padding=\"same\")(x)\n",
        "\n",
        "    residual = layers.Conv2D(\n",
        "        size, 1, strides=2, padding=\"same\", use_bias=False)(residual)\n",
        "    x = layers.add([x, residual])\n",
        "\n",
        "x = layers.GlobalAveragePooling2D()(x) # 전역 평균 풀링\n",
        "x = layers.Dropout(0.5)(x) #드롭 아웃\n",
        "outputs = layers.Dense(1, activation=\"sigmoid\")(x)\n",
        "model = keras.Model(inputs=inputs, outputs=outputs)\n",
        "\n",
        "model.compile(loss=\"binary_crossentropy\",\n",
        "              optimizer=\"rmsprop\",\n",
        "              metrics=[\"accuracy\"])\n",
        "history = model.fit(\n",
        "    train_dataset,\n",
        "    epochs=100,\n",
        "    validation_data=validation_dataset)"
      ],
      "metadata": {
        "id": "uC-L8ARxaL9x"
      },
      "execution_count": null,
      "outputs": []
    },
    {
      "cell_type": "code",
      "source": [
        "# 합성곱 모델 시각화 과정 출력\n",
        "from tensorflow import keras\n",
        "model = keras.models.load_model(\n",
        "    'convnet_from_scratch_chapter_8.h5')\n",
        "model.summary()"
      ],
      "metadata": {
        "id": "5CQtSyYhbFWs"
      },
      "execution_count": null,
      "outputs": []
    },
    {
      "cell_type": "code",
      "source": [
        "# 1개 이미지 전처리\n",
        "from tensorflow import keras\n",
        "from tensorflow.keras import layers\n",
        "import numpy as np\n",
        "\n",
        "img_path = keras.utils.get_file(\n",
        "    fname = 'cat.jpg',\n",
        "    origin = 'https://img-datasets.s3.amazonaws.com/cat.jpg')\n",
        "\n",
        "def get_img_array(img_path, target_size):\n",
        "  img = keras.utils.load_img(\n",
        "      img_path, target_size = target_size)\n",
        "  array = keras.utils.img_to_array(img) #(180,180,3)의 넘파이 배열로 변환\n",
        "  array = np.expand_dims(array, axis = 0) #차원 추가(1,180,180,3)\n",
        "  return array\n",
        "\n",
        "img_tensor = get_img_array(img_path, target_size = (180,180))"
      ],
      "metadata": {
        "id": "LukKpp9Lbf3n"
      },
      "execution_count": null,
      "outputs": []
    },
    {
      "cell_type": "code",
      "source": [
        "from tensorflow.keras import layers\n",
        "\n",
        "layer_outputs = []\n",
        "layer_names = []\n",
        "for layer in model.layers: #Conv2D층과 MaxPooling2D층의 출력을 리스트에 추가\n",
        "  if isinstance(layer, (layers.Conv2D, layers.MaxPooling2D)):\n",
        "    layer_outputs.append(layer.output)\n",
        "    layer_names.append(layer.name)\n",
        "\n",
        "activation_model = keras.Model(inputs= model.input, outputs = layer_outputs)"
      ],
      "metadata": {
        "id": "4rwJ2V52cliu"
      },
      "execution_count": null,
      "outputs": []
    },
    {
      "cell_type": "code",
      "source": [
        "activations = activation_model.predict(img_tensor)"
      ],
      "metadata": {
        "id": "BQqAZCy6dg1m"
      },
      "execution_count": null,
      "outputs": []
    },
    {
      "cell_type": "code",
      "source": [
        "# 1개의 이미지에 대해 컨볼루션 층이 깊어지는 그림을 보면\n",
        "# 층이 깊어지면서 점점 더 픽셀화 된다(추상적)\n",
        "images_per_row = 16\n",
        "for layer_name, layer_activation in zip(layer_names, activations):\n",
        "    n_features = layer_activation.shape[-1]\n",
        "    size = layer_activation.shape[1]\n",
        "    n_cols = n_features // images_per_row\n",
        "    display_grid = np.zeros(((size + 1) * n_cols - 1,\n",
        "                             images_per_row * (size + 1) - 1))\n",
        "    for col in range(n_cols):\n",
        "        for row in range(images_per_row):\n",
        "            channel_index = col * images_per_row + row\n",
        "            channel_image = layer_activation[0, :, :, channel_index].copy()\n",
        "            if channel_image.sum() != 0:\n",
        "                channel_image -= channel_image.mean()\n",
        "                channel_image /= channel_image.std()\n",
        "                channel_image *= 64\n",
        "                channel_image += 128\n",
        "            channel_image = np.clip(channel_image, 0, 255).astype(\"uint8\")\n",
        "            display_grid[\n",
        "                col * (size + 1): (col + 1) * size + col,\n",
        "                row * (size + 1) : (row + 1) * size + row] = channel_image\n",
        "    scale = 1. / size\n",
        "    plt.figure(figsize=(scale * display_grid.shape[1],\n",
        "                        scale * display_grid.shape[0]))\n",
        "    plt.title(layer_name)\n",
        "    plt.grid(False)\n",
        "    plt.axis(\"off\")\n",
        "    plt.imshow(display_grid, aspect=\"auto\", cmap=\"viridis\")"
      ],
      "metadata": {
        "id": "ovWrmF6mdN-u"
      },
      "execution_count": null,
      "outputs": []
    },
    {
      "cell_type": "code",
      "source": [
        "#1 Xception을 활용한 컨브넷 필터 시각화 하기\n",
        "\n",
        "model = keras.applications.xception.Xception(\n",
        "    weights = 'imagenet',\n",
        "    include_top = False)"
      ],
      "metadata": {
        "id": "DU38jmqYgbzc"
      },
      "execution_count": null,
      "outputs": []
    },
    {
      "cell_type": "code",
      "source": [
        "#2 블록 14개, 층 40개\n",
        "for layer in model.layers:\n",
        "  if isinstance(layer, (keras.layers.Conv2D, keras.layers.SeparableConv2D)):\n",
        "    print(layer.name)"
      ],
      "metadata": {
        "id": "cl9s_ml4gnEN"
      },
      "execution_count": null,
      "outputs": []
    },
    {
      "cell_type": "code",
      "source": [
        "#3 특성 추출 모델 만들기\n",
        "layer_name = \"block13_sepconv2\" # 이 이름만 바꾸고 밑에 코드 한번씩 실행시키면\n",
        "# 컨브넷 모델이 뭘 보고 있는지 알 수 있음\n",
        "layer = model.get_layer(name=layer_name)\n",
        "feature_extractor = keras.Model(inputs=model.input, outputs=layer.output)"
      ],
      "metadata": {
        "id": "yDVVld8lhLQO"
      },
      "execution_count": null,
      "outputs": []
    },
    {
      "cell_type": "code",
      "source": [
        "#4 특성 추출 모델 사용하기\n",
        "# xception 모델의 입력은 아래처럼 전처리 되어야 함.\n",
        "activation = feature_extractor(\n",
        "    keras.applications.xception.preprocess_input(img_tensor)\n",
        ")"
      ],
      "metadata": {
        "id": "1uIxqu2XhYCi"
      },
      "execution_count": null,
      "outputs": []
    },
    {
      "cell_type": "code",
      "source": [
        "import tensorflow as tf\n",
        "\n",
        "#5 이미지가 필터를 활성화하는 정도를 스칼라로 나타낼 수 있음.\n",
        "def compute_loss(image, filter_index):\n",
        "    activation = feature_extractor(image)\n",
        "    filter_activation = activation[:, 2:-2, 2:-2, filter_index]\n",
        "    return tf.reduce_mean(filter_activation)"
      ],
      "metadata": {
        "id": "2CCQsRURhizB"
      },
      "execution_count": null,
      "outputs": []
    },
    {
      "cell_type": "code",
      "source": [
        "@tf.function\n",
        "#6 그레이디언트를 증가시키는 방향(경사상승법, 특정 필터의 응답을 최대로 하기 위해서 ㅇㅇ)\n",
        "def gradient_ascent_step(image, filter_index, learning_rate):\n",
        "    with tf.GradientTape() as tape:\n",
        "        tape.watch(image)\n",
        "        loss = compute_loss(image, filter_index)\n",
        "    grads = tape.gradient(loss, image)\n",
        "    grads = tf.math.l2_normalize(grads)\n",
        "    image += learning_rate * grads\n",
        "    return image"
      ],
      "metadata": {
        "id": "-4aPUwIJilI6"
      },
      "execution_count": null,
      "outputs": []
    },
    {
      "cell_type": "code",
      "source": [
        "#7 필터 시각화 생성\n",
        "\n",
        "img_width = 200\n",
        "img_height = 200\n",
        "\n",
        "def generate_filter_pattern(filter_index):\n",
        "    iterations = 30\n",
        "    learning_rate = 10.\n",
        "    image = tf.random.uniform(\n",
        "        minval=0.4,\n",
        "        maxval=0.6,\n",
        "        shape=(1, img_width, img_height, 3))\n",
        "    for i in range(iterations):\n",
        "        image = gradient_ascent_step(image, filter_index, learning_rate)\n",
        "    return image[0].numpy()"
      ],
      "metadata": {
        "id": "4CAodSE2i8qJ"
      },
      "execution_count": null,
      "outputs": []
    },
    {
      "cell_type": "code",
      "source": [
        "#8 텐서를 이미지로 변환\n",
        "\n",
        "def deprocess_image(image):\n",
        "    image -= image.mean()\n",
        "    image /= image.std()\n",
        "    image *= 64\n",
        "    image += 128\n",
        "    image = np.clip(image, 0, 255).astype(\"uint8\")\n",
        "    image = image[25:-25, 25:-25, :]\n",
        "    return image"
      ],
      "metadata": {
        "id": "DOB4aotWjv0L"
      },
      "execution_count": null,
      "outputs": []
    },
    {
      "cell_type": "code",
      "source": [
        "# 9 출력\n",
        "\n",
        "plt.axis(\"off\")\n",
        "plt.imshow(deprocess_image(generate_filter_pattern(filter_index=2)))\n",
        "plt.show()"
      ],
      "metadata": {
        "id": "uiBQN5q3kDiQ"
      },
      "execution_count": null,
      "outputs": []
    },
    {
      "cell_type": "code",
      "source": [
        "all_images = []\n",
        "for filter_index in range(64):\n",
        "    print(f\"{filter_index}번 필터 처리중\")\n",
        "    image = deprocess_image(\n",
        "        generate_filter_pattern(filter_index)\n",
        "    )\n",
        "    all_images.append(image)\n",
        "\n",
        "margin = 5\n",
        "n = 8\n",
        "cropped_width = img_width - 25 * 2\n",
        "cropped_height = img_height - 25 * 2\n",
        "width = n * cropped_width + (n - 1) * margin\n",
        "height = n * cropped_height + (n - 1) * margin\n",
        "stitched_filters = np.zeros((width, height, 3))\n",
        "\n",
        "for i in range(n):\n",
        "    for j in range(n):\n",
        "        image = all_images[i * n + j]\n",
        "        stitched_filters[\n",
        "            (cropped_width + margin) * i : (cropped_width + margin) * i + cropped_width,\n",
        "            (cropped_height + margin) * j : (cropped_height + margin) * j\n",
        "            + cropped_height,\n",
        "            :,\n",
        "        ] = image\n",
        "\n",
        "keras.utils.save_img(\n",
        "    f\"filters_for_layer_{layer_name}.png\", stitched_filters)"
      ],
      "metadata": {
        "colab": {
          "base_uri": "https://localhost:8080/"
        },
        "id": "UXhwnLwpmcbW",
        "outputId": "462f63b0-d030-459a-9bd4-4469aa38ea0f"
      },
      "execution_count": null,
      "outputs": [
        {
          "output_type": "stream",
          "name": "stdout",
          "text": [
            "0번 필터 처리중\n",
            "1번 필터 처리중\n",
            "2번 필터 처리중\n",
            "3번 필터 처리중\n",
            "4번 필터 처리중\n",
            "5번 필터 처리중\n",
            "6번 필터 처리중\n",
            "7번 필터 처리중\n",
            "8번 필터 처리중\n",
            "9번 필터 처리중\n",
            "10번 필터 처리중\n",
            "11번 필터 처리중\n",
            "12번 필터 처리중\n",
            "13번 필터 처리중\n",
            "14번 필터 처리중\n",
            "15번 필터 처리중\n",
            "16번 필터 처리중\n",
            "17번 필터 처리중\n",
            "18번 필터 처리중\n",
            "19번 필터 처리중\n",
            "20번 필터 처리중\n",
            "21번 필터 처리중\n",
            "22번 필터 처리중\n",
            "23번 필터 처리중\n",
            "24번 필터 처리중\n",
            "25번 필터 처리중\n",
            "26번 필터 처리중\n",
            "27번 필터 처리중\n",
            "28번 필터 처리중\n",
            "29번 필터 처리중\n",
            "30번 필터 처리중\n",
            "31번 필터 처리중\n",
            "32번 필터 처리중\n",
            "33번 필터 처리중\n",
            "34번 필터 처리중\n",
            "35번 필터 처리중\n",
            "36번 필터 처리중\n",
            "37번 필터 처리중\n",
            "38번 필터 처리중\n",
            "39번 필터 처리중\n",
            "40번 필터 처리중\n",
            "41번 필터 처리중\n",
            "42번 필터 처리중\n",
            "43번 필터 처리중\n",
            "44번 필터 처리중\n",
            "45번 필터 처리중\n",
            "46번 필터 처리중\n",
            "47번 필터 처리중\n",
            "48번 필터 처리중\n",
            "49번 필터 처리중\n",
            "50번 필터 처리중\n",
            "51번 필터 처리중\n",
            "52번 필터 처리중\n",
            "53번 필터 처리중\n",
            "54번 필터 처리중\n",
            "55번 필터 처리중\n",
            "56번 필터 처리중\n",
            "57번 필터 처리중\n",
            "58번 필터 처리중\n",
            "59번 필터 처리중\n",
            "60번 필터 처리중\n",
            "61번 필터 처리중\n",
            "62번 필터 처리중\n",
            "63번 필터 처리중\n"
          ]
        }
      ]
    }
  ]
}